{
 "cells": [
  {
   "cell_type": "code",
   "execution_count": null,
   "id": "94948a83",
   "metadata": {},
   "outputs": [],
   "source": [
    "from utils import *\n",
    "\n",
    "import random\n",
    "\n",
    "from data import CustomDataset\n",
    "from model import CustomYOLOv5\n",
    "from loss import CustomLoss\n",
    "\n",
    "import torchvision.transforms as transforms"
   ]
  },
  {
   "cell_type": "markdown",
   "id": "66efc4ee",
   "metadata": {},
   "source": [
    "### Load labels "
   ]
  },
  {
   "cell_type": "code",
   "execution_count": null,
   "id": "7152b43b",
   "metadata": {},
   "outputs": [],
   "source": [
    "train_labels, val_labels = load_labels()"
   ]
  },
  {
   "cell_type": "markdown",
   "id": "16ecdd3d",
   "metadata": {},
   "source": [
    "### Setup data augmentation techniques "
   ]
  },
  {
   "cell_type": "code",
   "execution_count": null,
   "id": "3fd13f5b",
   "metadata": {},
   "outputs": [],
   "source": [
    "brightness_jitter = 0.3\n",
    "contrast_jitter = 0.3\n",
    "saturation_jitter = 0.3\n",
    "hue_jitter = 0.0\n",
    "\n",
    "color_jitter = transforms.ColorJitter(brightness=brightness_jitter, contrast=contrast_jitter,\n",
    "                                      saturation=saturation_jitter, hue=hue_jitter)\n",
    "preprocess_transform = transforms.Lambda(preprocess_image)"
   ]
  },
  {
   "cell_type": "markdown",
   "id": "2e729a8c",
   "metadata": {},
   "source": [
    "### Setup Dataset classes "
   ]
  },
  {
   "cell_type": "code",
   "execution_count": null,
   "id": "e9152c4f",
   "metadata": {},
   "outputs": [],
   "source": [
    "# Train Dataset class\n",
    "train_labels_trimmed = trim_data(train_labels)\n",
    "n = min(10000, len(train_labels_trimmed))\n",
    "train_labels_trimmed = random.sample(train_labels_trimmed, n)\n",
    "train_dataset = CustomDataset(labels=train_labels_trimmed,\n",
    "                              images_path=TRAIN_IMAGES_PATH,\n",
    "                              transform=transforms.Compose([\n",
    "                                  color_jitter,\n",
    "                                  preprocess_transform\n",
    "                              ]))\n",
    "\n",
    "\n",
    "# Val Dataset class\n",
    "val_labels_trimmed = trim_data(val_labels)\n",
    "n = min(50, len(val_labels_trimmed))\n",
    "val_labels_trimmed = random.sample(val_labels_trimmed, n)\n",
    "val_dataset = CustomDataset(labels=val_labels_trimmed,\n",
    "                            images_path=VAL_IMAGES_PATH,\n",
    "                            transform=transforms.Compose([\n",
    "                                preprocess_transform\n",
    "                            ]))"
   ]
  },
  {
   "cell_type": "markdown",
   "id": "d1cf9003",
   "metadata": {},
   "source": [
    "### Setup DataLoaders "
   ]
  },
  {
   "cell_type": "code",
   "execution_count": null,
   "id": "8de089d7",
   "metadata": {},
   "outputs": [],
   "source": [
    "batch_size = 32\n",
    "train_loader = torch.utils.data.DataLoader(train_dataset, batch_size=batch_size, shuffle=True, pin_memory=True)\n",
    "val_loader = torch.utils.data.DataLoader(val_dataset, batch_size=batch_size, shuffle=False, pin_memory=True)"
   ]
  },
  {
   "cell_type": "markdown",
   "id": "9426fd15",
   "metadata": {},
   "source": [
    "### Define model "
   ]
  },
  {
   "cell_type": "code",
   "execution_count": null,
   "id": "22d5c4b5",
   "metadata": {},
   "outputs": [],
   "source": [
    "num_classes = 10\n",
    "num_anchors = 2\n",
    "anchors = [[8,8],[4,8]]\n",
    "model = CustomYOLOv5(num_classes, num_anchors, anchors)"
   ]
  },
  {
   "cell_type": "markdown",
   "id": "c9bd8129",
   "metadata": {},
   "source": [
    "### Define loss_function, optimiser, LR scheduler"
   ]
  },
  {
   "cell_type": "code",
   "execution_count": null,
   "id": "3f6224cf",
   "metadata": {},
   "outputs": [],
   "source": [
    "loss_fn = CustomLoss(num_anchors)\n",
    "param_list = list(filter(lambda p: p.requires_grad, model.parameters()))\n",
    "optimizer = torch.optim.Adam(param_list, lr=0.001, weight_decay=0.0005)\n",
    "lr_scheduler = torch.optim.lr_scheduler.StepLR(optimizer, step_size=3, gamma=0.1)"
   ]
  },
  {
   "cell_type": "markdown",
   "id": "acabc843",
   "metadata": {},
   "source": [
    "### Train the model "
   ]
  },
  {
   "cell_type": "code",
   "execution_count": null,
   "id": "23a6ae3b",
   "metadata": {},
   "outputs": [],
   "source": [
    "losses_train = []\n",
    "losses_eval = []\n",
    "num_epochs = 2\n",
    "for epoch in range(num_epochs):\n",
    "\n",
    "    model.train()\n",
    "    for batch_idx, batch_data in enumerate(train_loader):\n",
    "        images = batch_data['image']\n",
    "        labels = batch_data['labels']\n",
    "        y = model(images)\n",
    "        train_loss = loss_fn(y, labels)\n",
    "        losses_train.append(train_loss)\n",
    "        if batch_idx % 4 == 0:\n",
    "            print(\"Train loss: %s\" % train_loss)\n",
    "\n",
    "        optimizer.zero_grad()\n",
    "        train_loss.backward()\n",
    "        optimizer.step()\n",
    "\n",
    "    lr_scheduler.step()\n",
    "\n",
    "    model.eval()\n",
    "    for batch_idx, batch_data in enumerate(val_loader):\n",
    "        images = batch_data['image']\n",
    "        labels = batch_data['labels']\n",
    "        y = model(images)\n",
    "        val_loss = loss_fn(y, labels)\n",
    "        losses_eval.append(val_loss)\n",
    "        if batch_idx % 4 == 0:\n",
    "            print(\"Val loss: %s\" % val_loss)\n"
   ]
  },
  {
   "cell_type": "markdown",
   "id": "f6188f38",
   "metadata": {},
   "source": [
    "### Save the trained model"
   ]
  },
  {
   "cell_type": "code",
   "execution_count": null,
   "id": "f7e05ec2",
   "metadata": {},
   "outputs": [],
   "source": [
    "model_path = '../3_evaluation_and_visualisation/object_detection_model.pth'\n",
    "torch.save(model.state_dict(), model_path)"
   ]
  },
  {
   "cell_type": "code",
   "execution_count": null,
   "id": "428b7370",
   "metadata": {},
   "outputs": [],
   "source": []
  }
 ],
 "metadata": {
  "kernelspec": {
   "display_name": "Python 3 (ipykernel)",
   "language": "python",
   "name": "python3"
  },
  "language_info": {
   "codemirror_mode": {
    "name": "ipython",
    "version": 3
   },
   "file_extension": ".py",
   "mimetype": "text/x-python",
   "name": "python",
   "nbconvert_exporter": "python",
   "pygments_lexer": "ipython3",
   "version": "3.9.6"
  }
 },
 "nbformat": 4,
 "nbformat_minor": 5
}
