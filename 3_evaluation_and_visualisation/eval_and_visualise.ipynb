{
 "cells": [
  {
   "cell_type": "code",
   "execution_count": null,
   "id": "94948a83",
   "metadata": {},
   "outputs": [],
   "source": [
    "from utils import *\n",
    "\n",
    "import random\n",
    "\n",
    "from data import CustomDataset\n",
    "from model import CustomYOLOv5\n",
    "\n",
    "import torchvision.transforms as transforms"
   ]
  },
  {
   "cell_type": "markdown",
   "id": "66efc4ee",
   "metadata": {},
   "source": [
    "### Load labels "
   ]
  },
  {
   "cell_type": "code",
   "execution_count": null,
   "id": "7152b43b",
   "metadata": {},
   "outputs": [],
   "source": [
    "train_labels, val_labels = load_labels()"
   ]
  },
  {
   "cell_type": "markdown",
   "id": "2e729a8c",
   "metadata": {},
   "source": [
    "### Setup Dataset classes "
   ]
  },
  {
   "cell_type": "code",
   "execution_count": null,
   "id": "e9152c4f",
   "metadata": {},
   "outputs": [],
   "source": [
    "# Val Dataset class\n",
    "preprocess_transform = transforms.Lambda(preprocess_image)\n",
    "val_labels_trimmed = trim_data(val_labels)\n",
    "n = min(50, len(val_labels_trimmed))\n",
    "val_labels_trimmed = random.sample(val_labels_trimmed, n)\n",
    "val_dataset = CustomDataset(labels=val_labels_trimmed,\n",
    "                            images_path=VAL_IMAGES_PATH,\n",
    "                            transform=transforms.Compose([\n",
    "                                preprocess_transform\n",
    "                            ]))"
   ]
  },
  {
   "cell_type": "markdown",
   "id": "d1cf9003",
   "metadata": {},
   "source": [
    "### Setup DataLoaders "
   ]
  },
  {
   "cell_type": "code",
   "execution_count": null,
   "id": "8de089d7",
   "metadata": {},
   "outputs": [],
   "source": [
    "batch_size = 32\n",
    "val_loader = torch.utils.data.DataLoader(val_dataset, batch_size=batch_size, shuffle=False, pin_memory=True)"
   ]
  },
  {
   "cell_type": "markdown",
   "id": "9426fd15",
   "metadata": {},
   "source": [
    "### Load trained model "
   ]
  },
  {
   "cell_type": "code",
   "execution_count": null,
   "id": "22d5c4b5",
   "metadata": {},
   "outputs": [],
   "source": [
    "num_classes = 10\n",
    "num_anchors = 2\n",
    "anchors = [[8,8],[4,8]]\n",
    "model = CustomYOLOv5(num_classes, num_anchors, anchors)\n",
    "\n",
    "checkpoint_path = './object_detection_model.pth'\n",
    "model.load_state_dict(torch.load(checkpoint_path))\n",
    "\n",
    "# Set the model to evaluation mode\n",
    "model.eval()"
   ]
  },
  {
   "cell_type": "code",
   "execution_count": null,
   "id": "976679e0",
   "metadata": {},
   "outputs": [],
   "source": [
    "for batch_idx, batch_data in enumerate(val_loader):\n",
    "    images = batch_data['image']\n",
    "    target = batch_data['labels']\n",
    "    pred = model(images)\n",
    "    break"
   ]
  },
  {
   "cell_type": "markdown",
   "id": "3672bc63",
   "metadata": {},
   "source": [
    "### Visualise output boxes "
   ]
  },
  {
   "cell_type": "code",
   "execution_count": null,
   "id": "295104d8",
   "metadata": {},
   "outputs": [],
   "source": [
    "curr_img = inverse_preprocess(images[10])\n",
    "\n",
    "pred_tensor = pred[10]\n",
    "nms_boxes = get_nms_boxes(pred_tensor)\n",
    "curr_pred = torch.stack(nms_boxes)\n",
    "draw_bboxes(curr_img, curr_pred, fmt='xyxy');"
   ]
  },
  {
   "cell_type": "code",
   "execution_count": null,
   "id": "82491f40",
   "metadata": {},
   "outputs": [],
   "source": []
  }
 ],
 "metadata": {
  "kernelspec": {
   "display_name": "Python 3 (ipykernel)",
   "language": "python",
   "name": "python3"
  },
  "language_info": {
   "codemirror_mode": {
    "name": "ipython",
    "version": 3
   },
   "file_extension": ".py",
   "mimetype": "text/x-python",
   "name": "python",
   "nbconvert_exporter": "python",
   "pygments_lexer": "ipython3",
   "version": "3.9.6"
  }
 },
 "nbformat": 4,
 "nbformat_minor": 5
}
