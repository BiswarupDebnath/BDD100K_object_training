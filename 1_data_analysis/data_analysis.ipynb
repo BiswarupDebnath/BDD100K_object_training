{
 "cells": [
  {
   "cell_type": "code",
   "execution_count": null,
   "id": "ada0cf75",
   "metadata": {},
   "outputs": [],
   "source": [
    "from utils import *"
   ]
  },
  {
   "cell_type": "markdown",
   "id": "66efc4ee",
   "metadata": {},
   "source": [
    "### Load labels "
   ]
  },
  {
   "cell_type": "code",
   "execution_count": null,
   "id": "7ed11110",
   "metadata": {},
   "outputs": [],
   "source": [
    "train_labels, val_labels = load_labels()"
   ]
  },
  {
   "cell_type": "markdown",
   "id": "96c4b2e2",
   "metadata": {},
   "source": [
    "### Parse data in dataframe "
   ]
  },
  {
   "cell_type": "code",
   "execution_count": null,
   "id": "bb0fc1e2",
   "metadata": {},
   "outputs": [],
   "source": [
    "train_df = parse_data(train_labels)\n",
    "val_df = parse_data(val_labels)"
   ]
  },
  {
   "cell_type": "code",
   "execution_count": null,
   "id": "6efa4d77",
   "metadata": {},
   "outputs": [],
   "source": [
    "train_df.head()"
   ]
  },
  {
   "cell_type": "markdown",
   "id": "218ad68b",
   "metadata": {},
   "source": [
    "### Get class distribution "
   ]
  },
  {
   "cell_type": "code",
   "execution_count": null,
   "id": "2cc7ac1c",
   "metadata": {},
   "outputs": [],
   "source": [
    "train_categories_df = get_object_categories(train_df)\n",
    "val_categories_df = get_object_categories(val_df)"
   ]
  },
  {
   "cell_type": "code",
   "execution_count": null,
   "id": "c1d81eec",
   "metadata": {
    "scrolled": true
   },
   "outputs": [],
   "source": [
    "horizontal([train_categories_df, val_categories_df])"
   ]
  },
  {
   "cell_type": "markdown",
   "id": "2594439c",
   "metadata": {},
   "source": [
    "### Other basic data checks "
   ]
  },
  {
   "cell_type": "markdown",
   "id": "f89950ae",
   "metadata": {},
   "source": [
    "##### 1. Check mean object sizes, this will be useful in determining anchor box size"
   ]
  },
  {
   "cell_type": "code",
   "execution_count": null,
   "id": "b630e17c",
   "metadata": {},
   "outputs": [],
   "source": [
    "get_mean_object_size(train_df)"
   ]
  },
  {
   "cell_type": "code",
   "execution_count": null,
   "id": "a450f953",
   "metadata": {},
   "outputs": [],
   "source": [
    "get_mean_object_size(val_df)"
   ]
  },
  {
   "cell_type": "markdown",
   "id": "ac68670b",
   "metadata": {},
   "source": [
    "### Data Visualisation"
   ]
  },
  {
   "cell_type": "markdown",
   "id": "2ec459c3",
   "metadata": {},
   "source": [
    "##### Random images "
   ]
  },
  {
   "cell_type": "code",
   "execution_count": null,
   "id": "c229737a",
   "metadata": {},
   "outputs": [],
   "source": [
    "show_annotated_image_randomly(train_df, split='train');"
   ]
  },
  {
   "cell_type": "markdown",
   "id": "13852b97",
   "metadata": {},
   "source": [
    "##### Classwise visualisation"
   ]
  },
  {
   "cell_type": "code",
   "execution_count": null,
   "id": "ba774c21",
   "metadata": {
    "scrolled": false
   },
   "outputs": [],
   "source": [
    "# Show images which has at least n objects of a certain class/category\n",
    "show_annotated_image_randomly(val_df, split='val', category='car', n=20000);"
   ]
  },
  {
   "cell_type": "markdown",
   "id": "dce49322",
   "metadata": {},
   "source": [
    "##### Object size level visualisation "
   ]
  },
  {
   "cell_type": "code",
   "execution_count": null,
   "id": "19e656b4",
   "metadata": {},
   "outputs": [],
   "source": [
    "# Show images which has at least n objects of a certain class with \n",
    "# height at least h pixels and/or width at least w pixels\n",
    "show_annotated_image_randomly(val_df, split='val', w=90, n=20);"
   ]
  },
  {
   "cell_type": "markdown",
   "id": "6d868c52",
   "metadata": {},
   "source": [
    "##### Crop visualisation "
   ]
  },
  {
   "cell_type": "code",
   "execution_count": null,
   "id": "850187db",
   "metadata": {},
   "outputs": [],
   "source": [
    "show_crops(val_df, split='val', category='car', n=20)"
   ]
  },
  {
   "cell_type": "code",
   "execution_count": null,
   "id": "c8e7f87e",
   "metadata": {},
   "outputs": [],
   "source": []
  }
 ],
 "metadata": {
  "kernelspec": {
   "display_name": "Python 3 (ipykernel)",
   "language": "python",
   "name": "python3"
  },
  "language_info": {
   "codemirror_mode": {
    "name": "ipython",
    "version": 3
   },
   "file_extension": ".py",
   "mimetype": "text/x-python",
   "name": "python",
   "nbconvert_exporter": "python",
   "pygments_lexer": "ipython3",
   "version": "3.9.6"
  }
 },
 "nbformat": 4,
 "nbformat_minor": 5
}
